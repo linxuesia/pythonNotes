{
 "cells": [
  {
   "cell_type": "code",
   "execution_count": 30,
   "metadata": {},
   "outputs": [
    {
     "name": "stdout",
     "output_type": "stream",
     "text": [
      "“侠客行”一诗共二十四句，即有二十四间石室图解。他游行诸室，不识壁上文字，只从图画中去修习内功武术。**，那第五句“十步杀一人”，第十句“脱剑膝前横”，第十七句“救赵挥金锤”，每一句都是一套剑法。*，第六句“千里不留行”，第七句“事了拂衣去”，第八句“深藏身与名”，每一句都是一套轻身功夫；第九句“闲过信陵饮”，第十四句“五岳倒为轻”，第十六句“纵死侠骨香”，则各是一套拳掌之法。第十三句“三杯吐言诺”，第十八句“意气素霓生”，第二十句“喧赫大梁城”，则是吐纳呼吸的内功。\n",
      "****************************************************************************************************\n",
      "在这个字符串中，总长度236，其中标点符号有49个。\n",
      "****************************************************************************************************\n"
     ]
    },
    {
     "ename": "AttributeError",
     "evalue": "'dict' object has no attribute 'removeItem'",
     "output_type": "error",
     "traceback": [
      "\u001b[1;31m---------------------------------------------------------------------------\u001b[0m",
      "\u001b[1;31mAttributeError\u001b[0m                            Traceback (most recent call last)",
      "\u001b[1;32m<ipython-input-30-febf74746ad1>\u001b[0m in \u001b[0;36m<module>\u001b[1;34m\u001b[0m\n\u001b[0;32m     47\u001b[0m     \u001b[0mprint\u001b[0m\u001b[1;33m(\u001b[0m\u001b[1;34m'*'\u001b[0m\u001b[1;33m*\u001b[0m \u001b[1;36m100\u001b[0m\u001b[1;33m)\u001b[0m\u001b[1;33m\u001b[0m\u001b[1;33m\u001b[0m\u001b[0m\n\u001b[0;32m     48\u001b[0m \u001b[1;33m\u001b[0m\u001b[0m\n\u001b[1;32m---> 49\u001b[1;33m     \u001b[0mcountRepeat\u001b[0m\u001b[1;33m(\u001b[0m\u001b[0mstr1\u001b[0m\u001b[1;33m)\u001b[0m\u001b[1;33m\u001b[0m\u001b[1;33m\u001b[0m\u001b[0m\n\u001b[0m\u001b[0;32m     50\u001b[0m \u001b[1;33m\u001b[0m\u001b[0m\n\u001b[0;32m     51\u001b[0m \u001b[1;33m\u001b[0m\u001b[0m\n",
      "\u001b[1;32m<ipython-input-30-febf74746ad1>\u001b[0m in \u001b[0;36mcountRepeat\u001b[1;34m(strObj)\u001b[0m\n\u001b[0;32m     37\u001b[0m     \u001b[1;32mfor\u001b[0m \u001b[0mitem\u001b[0m \u001b[1;32min\u001b[0m \u001b[0mcount\u001b[0m\u001b[1;33m.\u001b[0m\u001b[0mitems\u001b[0m\u001b[1;33m(\u001b[0m\u001b[1;33m)\u001b[0m\u001b[1;33m:\u001b[0m\u001b[1;33m\u001b[0m\u001b[1;33m\u001b[0m\u001b[0m\n\u001b[0;32m     38\u001b[0m         \u001b[1;32mif\u001b[0m\u001b[1;33m(\u001b[0m\u001b[0mitem\u001b[0m\u001b[1;33m[\u001b[0m\u001b[1;36m1\u001b[0m\u001b[1;33m]\u001b[0m \u001b[1;33m==\u001b[0m \u001b[1;36m1\u001b[0m\u001b[1;33m)\u001b[0m\u001b[1;33m:\u001b[0m\u001b[1;33m\u001b[0m\u001b[1;33m\u001b[0m\u001b[0m\n\u001b[1;32m---> 39\u001b[1;33m             \u001b[0mcount\u001b[0m\u001b[1;33m.\u001b[0m\u001b[0mremoveItem\u001b[0m\u001b[1;33m(\u001b[0m\u001b[0mitem\u001b[0m\u001b[1;33m)\u001b[0m\u001b[1;33m\u001b[0m\u001b[1;33m\u001b[0m\u001b[0m\n\u001b[0m\u001b[0;32m     40\u001b[0m \u001b[1;33m\u001b[0m\u001b[0m\n\u001b[0;32m     41\u001b[0m \u001b[1;32mif\u001b[0m \u001b[0m__name__\u001b[0m \u001b[1;33m==\u001b[0m \u001b[1;34m'__main__'\u001b[0m\u001b[1;33m:\u001b[0m\u001b[1;33m\u001b[0m\u001b[1;33m\u001b[0m\u001b[0m\n",
      "\u001b[1;31mAttributeError\u001b[0m: 'dict' object has no attribute 'removeItem'"
     ]
    }
   ],
   "source": [
    "str1 = '“侠客行”一诗共二十四句，即有二十四间石室图解。他游行诸室，不识壁上文字，只从图画中去修习内功武术。我擦，那第五句“十步杀一人”，第十句“脱剑膝前横”，第十七句“救赵挥金锤”，每一句都是一套剑法。滚，第六句“千里不留行”，第七句“事了拂衣去”，第八句“深藏身与名”，每一句都是一套轻身功夫；第九句“闲过信陵饮”，第十四句“五岳倒为轻”，第十六句“纵死侠骨香”，则各是一套拳掌之法。第十三句“三杯吐言诺”，第十八句“意气素霓生”，第二十句“喧赫大梁城”，则是吐纳呼吸的内功。'\n",
    "\n",
    "def wordReplace(lst, strObj):\n",
    "    for word in lst:\n",
    "        strObj = strObj.replace(word, '*'*len(word))\n",
    "    return strObj\n",
    "\n",
    "\n",
    "import string\n",
    "from collections import namedtuple\n",
    "def countType(strObj):\n",
    "    quote_n = num_n = en_n = space_n = total_n = ch_n = 0\n",
    "    total_n = len(strObj)\n",
    "    \n",
    "    for c in strObj:\n",
    "        if c in string.ascii_letters:\n",
    "            en_n += 1\n",
    "        elif c.isdigit():\n",
    "            num_n += 1\n",
    "        elif c.isspace():\n",
    "            space_n += 1\n",
    "        elif c.isalpha():\n",
    "            ch_n += 1\n",
    "        else:\n",
    "            quote_n += 1\n",
    "    counts = namedtuple('Counts', 'number letter space ch quote total')\n",
    "    returnObj = counts(num_n, en_n, space_n, ch_n, quote_n, total_n)\n",
    "    return returnObj\n",
    "\n",
    "def countRepeat(strObj):\n",
    "    count = {}\n",
    "    for c in strObj:\n",
    "        if not c in count:\n",
    "            count[c] = 1\n",
    "        else:\n",
    "            count[c] += 1\n",
    "    for item in count.items():\n",
    "        if(item[1] == 1):\n",
    "            count.removeItem(item)\n",
    "    \n",
    "if __name__ == '__main__':\n",
    "    print(wordReplace(['我擦', '滚'], str1))\n",
    "    print('*'* 100)\n",
    "    \n",
    "    count = countType(str1)\n",
    "    print('在这个字符串中，总长度%d，其中标点符号有%d个。' % (count.total, count.quote))\n",
    "    print('*'* 100)\n",
    "    \n",
    "    countRepeat(str1)\n",
    "    \n",
    "\n",
    "\n",
    "\n",
    "\n",
    "\n",
    "\n",
    "\n"
   ]
  },
  {
   "cell_type": "code",
   "execution_count": null,
   "metadata": {},
   "outputs": [],
   "source": []
  }
 ],
 "metadata": {
  "kernelspec": {
   "display_name": "Python 3",
   "language": "python",
   "name": "python3"
  },
  "language_info": {
   "codemirror_mode": {
    "name": "ipython",
    "version": 3
   },
   "file_extension": ".py",
   "mimetype": "text/x-python",
   "name": "python",
   "nbconvert_exporter": "python",
   "pygments_lexer": "ipython3",
   "version": "3.7.2"
  }
 },
 "nbformat": 4,
 "nbformat_minor": 2
}
