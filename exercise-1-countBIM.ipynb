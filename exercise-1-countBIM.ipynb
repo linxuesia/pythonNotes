{
 "cells": [
  {
   "cell_type": "code",
   "execution_count": 8,
   "metadata": {},
   "outputs": [
    {
     "name": "stdout",
     "output_type": "stream",
     "text": [
      "请输入您的体重（单位kg）52\n",
      "请输入您的身高（单位m）1.6\n",
      "您的BIM指数为20.31，身材正常\n"
     ]
    }
   ],
   "source": [
    "# 计算BIM身体指数\n",
    "weight = float(input('请输入您的体重（单位kg）'))\n",
    "height = float(input('请输入您的身高（单位m）'))\n",
    "bim = weight / (height * height)\n",
    "level = None\n",
    "if bim < 18.5:\n",
    "    level = '过轻'\n",
    "elif (bim >= 18.5 and bim <= 23.9):\n",
    "    level = '正常'\n",
    "elif (bim >= 24 and bim <= 27):\n",
    "    level = '过重'\n",
    "elif (bim >= 28 and bim <= 32):   \n",
    "    level = '肥胖'\n",
    "elif (bim > 32):\n",
    "    level = '过度肥胖'\n",
    "print('您的BIM指数为%.2f，身材%s' % (bim, level))"
   ]
  },
  {
   "cell_type": "code",
   "execution_count": null,
   "metadata": {},
   "outputs": [],
   "source": []
  }
 ],
 "metadata": {
  "kernelspec": {
   "display_name": "Python 3",
   "language": "python",
   "name": "python3"
  },
  "language_info": {
   "codemirror_mode": {
    "name": "ipython",
    "version": 3
   },
   "file_extension": ".py",
   "mimetype": "text/x-python",
   "name": "python",
   "nbconvert_exporter": "python",
   "pygments_lexer": "ipython3",
   "version": "3.7.2"
  }
 },
 "nbformat": 4,
 "nbformat_minor": 2
}
